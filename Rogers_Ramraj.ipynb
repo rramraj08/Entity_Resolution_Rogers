{
  "nbformat": 4,
  "nbformat_minor": 0,
  "metadata": {
    "colab": {
      "name": "Rogers-Ramraj.ipynb",
      "provenance": [],
      "collapsed_sections": [],
      "toc_visible": true,
      "include_colab_link": true
    },
    "kernelspec": {
      "name": "python3",
      "display_name": "Python 3"
    },
    "language_info": {
      "name": "python"
    }
  },
  "cells": [
    {
      "cell_type": "markdown",
      "metadata": {
        "id": "view-in-github",
        "colab_type": "text"
      },
      "source": [
        "<a href=\"https://colab.research.google.com/github/rramraj08/Entity_Resolution_Rogers/blob/master/Rogers_Ramraj.ipynb\" target=\"_parent\"><img src=\"https://colab.research.google.com/assets/colab-badge.svg\" alt=\"Open In Colab\"/></a>"
      ]
    },
    {
      "cell_type": "markdown",
      "metadata": {
        "id": "6rtwrG5Phd-5"
      },
      "source": [
        "## Entity Resolution\n",
        "\n",
        "Entity Resolution is the task of disambiguating manifestations of real world entities in various records or mentions by linking and grouping. For example, there could be different ways of addressing the same person in text, different addresses for businesses, or photos of a particular object.\n",
        "\n",
        "## Objective: \n",
        "\n",
        "We are given two datasets - Scholar and DBLP. The goal is to find out what records from one match with the other. \n",
        "\n",
        "\n",
        "## Our approach: \n",
        "\n",
        "We shall first start by taking a look at the data and doing some basic cleaning. Next, we shall be applying the following approaches: \n",
        "\n",
        "*   Dedupe *(dedupe.io - an open source library)*\n",
        "    * Dedupe dataA \n",
        "    * Dedupe dataB \n",
        "\n"
      ]
    },
    {
      "cell_type": "markdown",
      "metadata": {
        "id": "ceVRroboiJYb"
      },
      "source": [
        "### Setting up the environment. "
      ]
    },
    {
      "cell_type": "code",
      "metadata": {
        "colab": {
          "base_uri": "https://localhost:8080/",
          "height": 1000
        },
        "id": "jjOuYNqgOfyT",
        "outputId": "0e21364d-b608-4678-cf88-fca64c65ff4f"
      },
      "source": [
        "! pip install pandas-dedupe\n",
        "! pip install numpy --upgrade"
      ],
      "execution_count": null,
      "outputs": [
        {
          "output_type": "stream",
          "text": [
            "Collecting pandas-dedupe\n",
            "  Downloading pandas_dedupe-1.5.0-py3-none-any.whl (12 kB)\n",
            "Collecting dedupe>=2.0.0\n",
            "  Downloading dedupe-2.0.8-cp37-cp37m-manylinux1_x86_64.whl (90 kB)\n",
            "\u001b[K     |████████████████████████████████| 90 kB 5.7 MB/s \n",
            "\u001b[?25hCollecting unidecode\n",
            "  Downloading Unidecode-1.2.0-py2.py3-none-any.whl (241 kB)\n",
            "\u001b[K     |████████████████████████████████| 241 kB 17.6 MB/s \n",
            "\u001b[?25hRequirement already satisfied: pandas in /usr/local/lib/python3.7/dist-packages (from pandas-dedupe) (1.1.5)\n",
            "Collecting fastcluster\n",
            "  Downloading fastcluster-1.2.3-cp37-cp37m-manylinux_2_5_x86_64.manylinux1_x86_64.whl (155 kB)\n",
            "\u001b[K     |████████████████████████████████| 155 kB 47.3 MB/s \n",
            "\u001b[?25hCollecting doublemetaphone\n",
            "  Downloading DoubleMetaphone-0.1-cp37-cp37m-manylinux1_x86_64.whl (79 kB)\n",
            "\u001b[K     |████████████████████████████████| 79 kB 9.3 MB/s \n",
            "\u001b[?25hCollecting Levenshtein-search\n",
            "  Downloading Levenshtein_search-1.4.5-cp37-cp37m-manylinux_2_5_x86_64.manylinux1_x86_64.whl (71 kB)\n",
            "\u001b[K     |████████████████████████████████| 71 kB 8.9 MB/s \n",
            "\u001b[?25hRequirement already satisfied: typing-extensions in /usr/local/lib/python3.7/dist-packages (from dedupe>=2.0.0->pandas-dedupe) (3.7.4.3)\n",
            "Collecting highered>=0.2.0\n",
            "  Downloading highered-0.2.1-py2.py3-none-any.whl (3.3 kB)\n",
            "Collecting affinegap>=1.3\n",
            "  Downloading affinegap-1.11-cp37-cp37m-manylinux1_x86_64.whl (46 kB)\n",
            "\u001b[K     |████████████████████████████████| 46 kB 4.5 MB/s \n",
            "\u001b[?25hCollecting categorical-distance>=1.9\n",
            "  Downloading categorical_distance-1.9-py3-none-any.whl (3.3 kB)\n",
            "Collecting rlr>=2.4.3\n",
            "  Downloading rlr-2.4.5-py2.py3-none-any.whl (4.8 kB)\n",
            "Collecting zope.index\n",
            "  Downloading zope.index-5.1.0-cp37-cp37m-manylinux_2_5_x86_64.manylinux1_x86_64.manylinux_2_12_x86_64.manylinux2010_x86_64.whl (103 kB)\n",
            "\u001b[K     |████████████████████████████████| 103 kB 60.4 MB/s \n",
            "\u001b[?25hCollecting BTrees>=4.1.4\n",
            "  Downloading BTrees-4.9.2-cp37-cp37m-manylinux2010_x86_64.whl (3.6 MB)\n",
            "\u001b[K     |████████████████████████████████| 3.6 MB 51.0 MB/s \n",
            "\u001b[?25hCollecting dedupe-hcluster\n",
            "  Downloading dedupe_hcluster-0.3.8-cp37-cp37m-manylinux1_x86_64.whl (531 kB)\n",
            "\u001b[K     |████████████████████████████████| 531 kB 71.4 MB/s \n",
            "\u001b[?25hCollecting dedupe-variable-datetime\n",
            "  Downloading dedupe_variable_datetime-0.1.5-py3-none-any.whl (4.8 kB)\n",
            "Collecting haversine>=0.4.1\n",
            "  Downloading haversine-2.3.1-py2.py3-none-any.whl (5.5 kB)\n",
            "Collecting simplecosine>=1.2\n",
            "  Downloading simplecosine-1.2-py2.py3-none-any.whl (3.2 kB)\n",
            "Requirement already satisfied: numpy>=1.13 in /usr/local/lib/python3.7/dist-packages (from dedupe>=2.0.0->pandas-dedupe) (1.19.5)\n",
            "Collecting persistent>=4.1.0\n",
            "  Downloading persistent-4.7.0-cp37-cp37m-manylinux2010_x86_64.whl (253 kB)\n",
            "\u001b[K     |████████████████████████████████| 253 kB 55.3 MB/s \n",
            "\u001b[?25hCollecting zope.interface>=5.0.0\n",
            "  Downloading zope.interface-5.4.0-cp37-cp37m-manylinux2010_x86_64.whl (251 kB)\n",
            "\u001b[K     |████████████████████████████████| 251 kB 68.3 MB/s \n",
            "\u001b[?25hCollecting pyhacrf-datamade>=0.2.0\n",
            "  Downloading pyhacrf_datamade-0.2.5-cp37-cp37m-manylinux1_x86_64.whl (787 kB)\n",
            "\u001b[K     |████████████████████████████████| 787 kB 47.1 MB/s \n",
            "\u001b[?25hRequirement already satisfied: cffi in /usr/local/lib/python3.7/dist-packages (from persistent>=4.1.0->BTrees>=4.1.4->dedupe>=2.0.0->pandas-dedupe) (1.14.6)\n",
            "Collecting PyLBFGS>=0.1.3\n",
            "  Downloading PyLBFGS-0.2.0.13-cp37-cp37m-manylinux1_x86_64.whl (203 kB)\n",
            "\u001b[K     |████████████████████████████████| 203 kB 61.3 MB/s \n",
            "\u001b[?25hRequirement already satisfied: future>=0.14 in /usr/local/lib/python3.7/dist-packages (from rlr>=2.4.3->dedupe>=2.0.0->pandas-dedupe) (0.16.0)\n",
            "Requirement already satisfied: setuptools in /usr/local/lib/python3.7/dist-packages (from zope.interface>=5.0.0->BTrees>=4.1.4->dedupe>=2.0.0->pandas-dedupe) (57.2.0)\n",
            "Requirement already satisfied: pycparser in /usr/local/lib/python3.7/dist-packages (from cffi->persistent>=4.1.0->BTrees>=4.1.4->dedupe>=2.0.0->pandas-dedupe) (2.20)\n",
            "Collecting datetime-distance\n",
            "  Downloading datetime_distance-0.1.3-py3-none-any.whl (4.1 kB)\n",
            "Requirement already satisfied: python-dateutil>=2.6.0 in /usr/local/lib/python3.7/dist-packages (from datetime-distance->dedupe-variable-datetime->dedupe>=2.0.0->pandas-dedupe) (2.8.1)\n",
            "Requirement already satisfied: six>=1.5 in /usr/local/lib/python3.7/dist-packages (from python-dateutil>=2.6.0->datetime-distance->dedupe-variable-datetime->dedupe>=2.0.0->pandas-dedupe) (1.15.0)\n",
            "Requirement already satisfied: pytz>=2017.2 in /usr/local/lib/python3.7/dist-packages (from pandas->pandas-dedupe) (2018.9)\n",
            "Installing collected packages: zope.interface, PyLBFGS, persistent, pyhacrf-datamade, datetime-distance, BTrees, zope.index, simplecosine, rlr, Levenshtein-search, highered, haversine, fastcluster, doublemetaphone, dedupe-variable-datetime, dedupe-hcluster, categorical-distance, affinegap, unidecode, dedupe, pandas-dedupe\n",
            "Successfully installed BTrees-4.9.2 Levenshtein-search-1.4.5 PyLBFGS-0.2.0.13 affinegap-1.11 categorical-distance-1.9 datetime-distance-0.1.3 dedupe-2.0.8 dedupe-hcluster-0.3.8 dedupe-variable-datetime-0.1.5 doublemetaphone-0.1 fastcluster-1.2.3 haversine-2.3.1 highered-0.2.1 pandas-dedupe-1.5.0 persistent-4.7.0 pyhacrf-datamade-0.2.5 rlr-2.4.5 simplecosine-1.2 unidecode-1.2.0 zope.index-5.1.0 zope.interface-5.4.0\n",
            "Requirement already satisfied: numpy in /usr/local/lib/python3.7/dist-packages (1.19.5)\n",
            "Collecting numpy\n",
            "  Downloading numpy-1.21.1-cp37-cp37m-manylinux_2_12_x86_64.manylinux2010_x86_64.whl (15.7 MB)\n",
            "\u001b[K     |████████████████████████████████| 15.7 MB 170 kB/s \n",
            "\u001b[?25hInstalling collected packages: numpy\n",
            "  Attempting uninstall: numpy\n",
            "    Found existing installation: numpy 1.19.5\n",
            "    Uninstalling numpy-1.19.5:\n",
            "      Successfully uninstalled numpy-1.19.5\n",
            "\u001b[31mERROR: pip's dependency resolver does not currently take into account all the packages that are installed. This behaviour is the source of the following dependency conflicts.\n",
            "tensorflow 2.5.0 requires numpy~=1.19.2, but you have numpy 1.21.1 which is incompatible.\n",
            "datascience 0.10.6 requires folium==0.2.1, but you have folium 0.8.3 which is incompatible.\n",
            "albumentations 0.1.12 requires imgaug<0.2.7,>=0.2.5, but you have imgaug 0.2.9 which is incompatible.\u001b[0m\n",
            "Successfully installed numpy-1.21.1\n"
          ],
          "name": "stdout"
        },
        {
          "output_type": "display_data",
          "data": {
            "application/vnd.colab-display-data+json": {
              "pip_warning": {
                "packages": [
                  "numpy"
                ]
              }
            }
          },
          "metadata": {
            "tags": []
          }
        }
      ]
    },
    {
      "cell_type": "code",
      "metadata": {
        "id": "9wdhYtuBNh_S"
      },
      "source": [
        "import pandas as pd \n",
        "import numpy as np \n",
        "import pandas_dedupe"
      ],
      "execution_count": null,
      "outputs": []
    },
    {
      "cell_type": "code",
      "metadata": {
        "colab": {
          "resources": {
            "http://localhost:8080/nbextensions/google.colab/files.js": {
              "data": "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",
              "ok": true,
              "headers": [
                [
                  "content-type",
                  "application/javascript"
                ]
              ],
              "status": 200,
              "status_text": ""
            }
          },
          "base_uri": "https://localhost:8080/",
          "height": 140
        },
        "id": "IhPu8EbjNrJ9",
        "outputId": "d7b897b7-7e00-4034-af2a-697b8ee41838"
      },
      "source": [
        "from google.colab import files\n",
        "\n",
        "uploaded = files.upload()\n",
        "\n",
        "for fn in uploaded.keys():\n",
        "  print('User uploaded file \"{name}\" with length {length} bytes'.format(\n",
        "      name=fn, length=len(uploaded[fn])))"
      ],
      "execution_count": null,
      "outputs": [
        {
          "output_type": "display_data",
          "data": {
            "text/html": [
              "\n",
              "     <input type=\"file\" id=\"files-933aaf6f-f112-452b-a0f4-e2af842848e1\" name=\"files[]\" multiple disabled\n",
              "        style=\"border:none\" />\n",
              "     <output id=\"result-933aaf6f-f112-452b-a0f4-e2af842848e1\">\n",
              "      Upload widget is only available when the cell has been executed in the\n",
              "      current browser session. Please rerun this cell to enable.\n",
              "      </output>\n",
              "      <script src=\"/nbextensions/google.colab/files.js\"></script> "
            ],
            "text/plain": [
              "<IPython.core.display.HTML object>"
            ]
          },
          "metadata": {
            "tags": []
          }
        },
        {
          "output_type": "stream",
          "text": [
            "Saving DBLP.csv to DBLP.csv\n",
            "Saving Scholar.csv to Scholar.csv\n",
            "User uploaded file \"DBLP.csv\" with length 351681 bytes\n",
            "User uploaded file \"Scholar.csv\" with length 9007451 bytes\n"
          ],
          "name": "stdout"
        }
      ]
    },
    {
      "cell_type": "markdown",
      "metadata": {
        "id": "8HwNj67ziRsd"
      },
      "source": [
        "#### Loading the data: \n",
        "\n",
        "The data contained some special characters and hence a different encoding (latin) was required to required to read it. "
      ]
    },
    {
      "cell_type": "code",
      "metadata": {
        "id": "eYiuvmfPOZjm"
      },
      "source": [
        "dfa = pd.read_csv('Scholar.csv' , encoding= 'unicode_escape')\n",
        "dfb = pd.read_csv('DBLP.csv' , encoding='latin-1' )"
      ],
      "execution_count": null,
      "outputs": []
    },
    {
      "cell_type": "code",
      "metadata": {
        "id": "6gLPCT1kjz_V"
      },
      "source": [
        ""
      ],
      "execution_count": null,
      "outputs": []
    },
    {
      "cell_type": "markdown",
      "metadata": {
        "id": "BOGT2zQjieyl"
      },
      "source": [
        "Taking a look at the data:"
      ]
    },
    {
      "cell_type": "code",
      "metadata": {
        "colab": {
          "base_uri": "https://localhost:8080/",
          "height": 110
        },
        "id": "eCx4nzxWUJ72",
        "outputId": "a7594a75-ec41-4619-e99a-33805fae04c7"
      },
      "source": [
        "dfa.head(2)"
      ],
      "execution_count": null,
      "outputs": [
        {
          "output_type": "execute_result",
          "data": {
            "text/html": [
              "<div>\n",
              "<style scoped>\n",
              "    .dataframe tbody tr th:only-of-type {\n",
              "        vertical-align: middle;\n",
              "    }\n",
              "\n",
              "    .dataframe tbody tr th {\n",
              "        vertical-align: top;\n",
              "    }\n",
              "\n",
              "    .dataframe thead th {\n",
              "        text-align: right;\n",
              "    }\n",
              "</style>\n",
              "<table border=\"1\" class=\"dataframe\">\n",
              "  <thead>\n",
              "    <tr style=\"text-align: right;\">\n",
              "      <th></th>\n",
              "      <th>idScholar</th>\n",
              "      <th>title</th>\n",
              "      <th>authors</th>\n",
              "      <th>venue</th>\n",
              "      <th>year</th>\n",
              "      <th>row_id</th>\n",
              "    </tr>\n",
              "  </thead>\n",
              "  <tbody>\n",
              "    <tr>\n",
              "      <th>0</th>\n",
              "      <td>aKcZKwvwbQwJ</td>\n",
              "      <td>11578 Sorrento Valley Road</td>\n",
              "      <td>QD Inc</td>\n",
              "      <td>San Diego,</td>\n",
              "      <td>NaN</td>\n",
              "      <td>1</td>\n",
              "    </tr>\n",
              "    <tr>\n",
              "      <th>1</th>\n",
              "      <td>ixKfiTHoaDoJ</td>\n",
              "      <td>Initiation of crazes in polystyrene</td>\n",
              "      <td>AS Argon, JG Hannoosh</td>\n",
              "      <td>Phil. Mag,</td>\n",
              "      <td>NaN</td>\n",
              "      <td>2</td>\n",
              "    </tr>\n",
              "  </tbody>\n",
              "</table>\n",
              "</div>"
            ],
            "text/plain": [
              "      idScholar                                title  ... year row_id\n",
              "0  aKcZKwvwbQwJ           11578 Sorrento Valley Road  ...  NaN      1\n",
              "1  ixKfiTHoaDoJ  Initiation of crazes in polystyrene  ...  NaN      2\n",
              "\n",
              "[2 rows x 6 columns]"
            ]
          },
          "metadata": {
            "tags": []
          },
          "execution_count": 3
        }
      ]
    },
    {
      "cell_type": "code",
      "metadata": {
        "colab": {
          "base_uri": "https://localhost:8080/",
          "height": 144
        },
        "id": "as421_DaUNev",
        "outputId": "87e578f1-567a-48a0-a480-4565a1fec0aa"
      },
      "source": [
        "dfb.head(2)"
      ],
      "execution_count": null,
      "outputs": [
        {
          "output_type": "execute_result",
          "data": {
            "text/html": [
              "<div>\n",
              "<style scoped>\n",
              "    .dataframe tbody tr th:only-of-type {\n",
              "        vertical-align: middle;\n",
              "    }\n",
              "\n",
              "    .dataframe tbody tr th {\n",
              "        vertical-align: top;\n",
              "    }\n",
              "\n",
              "    .dataframe thead th {\n",
              "        text-align: right;\n",
              "    }\n",
              "</style>\n",
              "<table border=\"1\" class=\"dataframe\">\n",
              "  <thead>\n",
              "    <tr style=\"text-align: right;\">\n",
              "      <th></th>\n",
              "      <th>idDBLP</th>\n",
              "      <th>title</th>\n",
              "      <th>authors</th>\n",
              "      <th>venue</th>\n",
              "      <th>year</th>\n",
              "      <th>row_id</th>\n",
              "    </tr>\n",
              "  </thead>\n",
              "  <tbody>\n",
              "    <tr>\n",
              "      <th>0</th>\n",
              "      <td>conf/vldb/RusinkiewiczKTWM95</td>\n",
              "      <td>Towards a Cooperative Transaction Model - The ...</td>\n",
              "      <td>M Rusinkiewicz, W Klas, T Tesch, J W_sch, P Muth</td>\n",
              "      <td>VLDB</td>\n",
              "      <td>1995</td>\n",
              "      <td>1</td>\n",
              "    </tr>\n",
              "    <tr>\n",
              "      <th>1</th>\n",
              "      <td>journals/sigmod/EisenbergM02</td>\n",
              "      <td>SQL/XML is Making Good Progress</td>\n",
              "      <td>A Eisenberg, J Melton</td>\n",
              "      <td>SIGMOD Record</td>\n",
              "      <td>2002</td>\n",
              "      <td>2</td>\n",
              "    </tr>\n",
              "  </tbody>\n",
              "</table>\n",
              "</div>"
            ],
            "text/plain": [
              "                         idDBLP  ... row_id\n",
              "0  conf/vldb/RusinkiewiczKTWM95  ...      1\n",
              "1  journals/sigmod/EisenbergM02  ...      2\n",
              "\n",
              "[2 rows x 6 columns]"
            ]
          },
          "metadata": {
            "tags": []
          },
          "execution_count": 4
        }
      ]
    },
    {
      "cell_type": "markdown",
      "metadata": {
        "id": "QWxV3W9okDnU"
      },
      "source": [
        "The two datasets above show similar fields. The majority of the data is in text format. \n",
        "\n",
        "Data cleaning approach:\n",
        "\n",
        "*   To convert the text into lowercase,remove punctuation, apply stemming / lemmetization\n",
        "\n",
        "\n"
      ]
    },
    {
      "cell_type": "markdown",
      "metadata": {
        "id": "IRGw6jOjkDsR"
      },
      "source": [
        "## Exploratory Data Analysis: \n",
        "\n"
      ]
    },
    {
      "cell_type": "code",
      "metadata": {
        "id": "pt5O_V2kkAwP"
      },
      "source": [
        "import matplotlib.pyplot as plt\n",
        "import seaborn as sns "
      ],
      "execution_count": null,
      "outputs": []
    },
    {
      "cell_type": "markdown",
      "metadata": {
        "id": "o8K8Q1b4lv3k"
      },
      "source": [
        "Plot top 10 venues"
      ]
    },
    {
      "cell_type": "code",
      "metadata": {
        "colab": {
          "base_uri": "https://localhost:8080/",
          "height": 357
        },
        "id": "GbqmSOTonpea",
        "outputId": "f1fc7e2b-7433-41d6-c0d8-dc5de7335f4f"
      },
      "source": [
        "\n",
        "dfa_plot = dfa.groupby('venue').agg('count')[['idScholar']].sort_values('idScholar' , ascending= False)[:10].reset_index()\n",
        "dfa_plot"
      ],
      "execution_count": null,
      "outputs": [
        {
          "output_type": "execute_result",
          "data": {
            "text/html": [
              "<div>\n",
              "<style scoped>\n",
              "    .dataframe tbody tr th:only-of-type {\n",
              "        vertical-align: middle;\n",
              "    }\n",
              "\n",
              "    .dataframe tbody tr th {\n",
              "        vertical-align: top;\n",
              "    }\n",
              "\n",
              "    .dataframe thead th {\n",
              "        text-align: right;\n",
              "    }\n",
              "</style>\n",
              "<table border=\"1\" class=\"dataframe\">\n",
              "  <thead>\n",
              "    <tr style=\"text-align: right;\">\n",
              "      <th></th>\n",
              "      <th>venue</th>\n",
              "      <th>idScholar</th>\n",
              "    </tr>\n",
              "  </thead>\n",
              "  <tbody>\n",
              "    <tr>\n",
              "      <th>0</th>\n",
              "      <td>LECTURE NOTES IN COMPUTER SCIENCE,</td>\n",
              "      <td>964</td>\n",
              "    </tr>\n",
              "    <tr>\n",
              "      <th>1</th>\n",
              "      <td>Cochrane Database Syst Rev,</td>\n",
              "      <td>910</td>\n",
              "    </tr>\n",
              "    <tr>\n",
              "      <th>2</th>\n",
              "      <td>New Directions for Higher Education,</td>\n",
              "      <td>894</td>\n",
              "    </tr>\n",
              "    <tr>\n",
              "      <th>3</th>\n",
              "      <td>Phil. Mag,</td>\n",
              "      <td>832</td>\n",
              "    </tr>\n",
              "    <tr>\n",
              "      <th>4</th>\n",
              "      <td>Computer Networks,</td>\n",
              "      <td>796</td>\n",
              "    </tr>\n",
              "    <tr>\n",
              "      <th>5</th>\n",
              "      <td>BT Technology Journal,</td>\n",
              "      <td>751</td>\n",
              "    </tr>\n",
              "    <tr>\n",
              "      <th>6</th>\n",
              "      <td>VLDB,</td>\n",
              "      <td>741</td>\n",
              "    </tr>\n",
              "    <tr>\n",
              "      <th>7</th>\n",
              "      <td>SIGMOD Record,</td>\n",
              "      <td>738</td>\n",
              "    </tr>\n",
              "    <tr>\n",
              "      <th>8</th>\n",
              "      <td>Information and Software Technology,</td>\n",
              "      <td>689</td>\n",
              "    </tr>\n",
              "    <tr>\n",
              "      <th>9</th>\n",
              "      <td>ACM Transactions on Database Systems,</td>\n",
              "      <td>685</td>\n",
              "    </tr>\n",
              "  </tbody>\n",
              "</table>\n",
              "</div>"
            ],
            "text/plain": [
              "                                   venue  idScholar\n",
              "0     LECTURE NOTES IN COMPUTER SCIENCE,        964\n",
              "1            Cochrane Database Syst Rev,        910\n",
              "2   New Directions for Higher Education,        894\n",
              "3                             Phil. Mag,        832\n",
              "4                     Computer Networks,        796\n",
              "5                 BT Technology Journal,        751\n",
              "6                                  VLDB,        741\n",
              "7                         SIGMOD Record,        738\n",
              "8   Information and Software Technology,        689\n",
              "9  ACM Transactions on Database Systems,        685"
            ]
          },
          "metadata": {
            "tags": []
          },
          "execution_count": 22
        }
      ]
    },
    {
      "cell_type": "code",
      "metadata": {
        "colab": {
          "base_uri": "https://localhost:8080/",
          "height": 581
        },
        "id": "jmyxU8pflA6Z",
        "outputId": "e0458a91-275c-4e96-8468-3299237fb169"
      },
      "source": [
        "\n",
        "dfa_plot = dfa.groupby('venue').agg('count')[['idScholar']].sort_values('idScholar' , ascending= False)[:10].reset_index()\n",
        "sns.set(rc={'figure.figsize':(11 , 8)})\n",
        "\n",
        "sns.barplot(  x = 'venue' , y='idScholar' , data = dfa_plot)\n",
        "\n",
        "plt.xticks(rotation=90)\n",
        "plt.tight_layout()"
      ],
      "execution_count": null,
      "outputs": [
        {
          "output_type": "display_data",
          "data": {
            "image/png": "[encoded data removed]",
            "text/plain": [
              "<Figure size 792x576 with 1 Axes>"
            ]
          },
          "metadata": {
            "tags": []
          }
        }
      ]
    },
    {
      "cell_type": "code",
      "metadata": {
        "colab": {
          "base_uri": "https://localhost:8080/",
          "height": 581
        },
        "id": "S8TPqtvAoGRi",
        "outputId": "e152e1b0-a00a-4f7c-d9ed-d04af0559ce8"
      },
      "source": [
        "\n",
        "dfb_plot = dfb.groupby('venue').agg('count')[['idDBLP']].sort_values('idDBLP' , ascending= False)[:10].reset_index()\n",
        "sns.set(rc={'figure.figsize':(11 , 8)})\n",
        "\n",
        "sns.barplot(  x = 'venue' , y='idDBLP' , data = dfb_plot)\n",
        "\n",
        "plt.xticks(rotation=90)\n",
        "plt.tight_layout()"
      ],
      "execution_count": null,
      "outputs": [
        {
          "output_type": "display_data",
          "data": {
            "image/png": "[encoded data removed]",
            "text/plain": [
              "<Figure size 792x576 with 1 Axes>"
            ]
          },
          "metadata": {
            "tags": []
          }
        }
      ]
    },
    {
      "cell_type": "code",
      "metadata": {
        "colab": {
          "base_uri": "https://localhost:8080/",
          "height": 357
        },
        "id": "Z8FTiri3pVH3",
        "outputId": "c98f1bbe-e1c9-463a-8c75-c2016d9cc712"
      },
      "source": [
        "# dfa['year'].unique()\n",
        "dfa.groupby('year').agg('count')[['idScholar']].sort_values('idScholar' , ascending= False).reset_index()[:10]"
      ],
      "execution_count": null,
      "outputs": [
        {
          "output_type": "execute_result",
          "data": {
            "text/html": [
              "<div>\n",
              "<style scoped>\n",
              "    .dataframe tbody tr th:only-of-type {\n",
              "        vertical-align: middle;\n",
              "    }\n",
              "\n",
              "    .dataframe tbody tr th {\n",
              "        vertical-align: top;\n",
              "    }\n",
              "\n",
              "    .dataframe thead th {\n",
              "        text-align: right;\n",
              "    }\n",
              "</style>\n",
              "<table border=\"1\" class=\"dataframe\">\n",
              "  <thead>\n",
              "    <tr style=\"text-align: right;\">\n",
              "      <th></th>\n",
              "      <th>year</th>\n",
              "      <th>idScholar</th>\n",
              "    </tr>\n",
              "  </thead>\n",
              "  <tbody>\n",
              "    <tr>\n",
              "      <th>0</th>\n",
              "      <td>2000.0</td>\n",
              "      <td>2110</td>\n",
              "    </tr>\n",
              "    <tr>\n",
              "      <th>1</th>\n",
              "      <td>2001.0</td>\n",
              "      <td>1944</td>\n",
              "    </tr>\n",
              "    <tr>\n",
              "      <th>2</th>\n",
              "      <td>1999.0</td>\n",
              "      <td>1832</td>\n",
              "    </tr>\n",
              "    <tr>\n",
              "      <th>3</th>\n",
              "      <td>1998.0</td>\n",
              "      <td>1684</td>\n",
              "    </tr>\n",
              "    <tr>\n",
              "      <th>4</th>\n",
              "      <td>2002.0</td>\n",
              "      <td>1589</td>\n",
              "    </tr>\n",
              "    <tr>\n",
              "      <th>5</th>\n",
              "      <td>1997.0</td>\n",
              "      <td>1567</td>\n",
              "    </tr>\n",
              "    <tr>\n",
              "      <th>6</th>\n",
              "      <td>1996.0</td>\n",
              "      <td>1519</td>\n",
              "    </tr>\n",
              "    <tr>\n",
              "      <th>7</th>\n",
              "      <td>2003.0</td>\n",
              "      <td>1512</td>\n",
              "    </tr>\n",
              "    <tr>\n",
              "      <th>8</th>\n",
              "      <td>2004.0</td>\n",
              "      <td>1447</td>\n",
              "    </tr>\n",
              "    <tr>\n",
              "      <th>9</th>\n",
              "      <td>1995.0</td>\n",
              "      <td>1313</td>\n",
              "    </tr>\n",
              "  </tbody>\n",
              "</table>\n",
              "</div>"
            ],
            "text/plain": [
              "     year  idScholar\n",
              "0  2000.0       2110\n",
              "1  2001.0       1944\n",
              "2  1999.0       1832\n",
              "3  1998.0       1684\n",
              "4  2002.0       1589\n",
              "5  1997.0       1567\n",
              "6  1996.0       1519\n",
              "7  2003.0       1512\n",
              "8  2004.0       1447\n",
              "9  1995.0       1313"
            ]
          },
          "metadata": {
            "tags": []
          },
          "execution_count": 44
        }
      ]
    },
    {
      "cell_type": "code",
      "metadata": {
        "colab": {
          "base_uri": "https://localhost:8080/",
          "height": 581
        },
        "id": "EiCCQqkpo_3i",
        "outputId": "a475e281-1909-4b52-fd6f-3c3ef71438b5"
      },
      "source": [
        "dfa_plot = dfa.groupby('year').agg('count')[['idScholar']].sort_values('idScholar' , ascending= False).reset_index()[:10]\n",
        "sns.set(rc={'figure.figsize':(11 , 8)})\n",
        "\n",
        "sns.barplot(  x = 'year' , y='idScholar' , data = dfa_plot)\n",
        "\n",
        "plt.xticks(rotation=90)\n",
        "plt.tight_layout()"
      ],
      "execution_count": null,
      "outputs": [
        {
          "output_type": "display_data",
          "data": {
            "image/png": "[encoded data removed]",
            "text/plain": [
              "<Figure size 792x576 with 1 Axes>"
            ]
          },
          "metadata": {
            "tags": []
          }
        }
      ]
    },
    {
      "cell_type": "code",
      "metadata": {
        "colab": {
          "base_uri": "https://localhost:8080/",
          "height": 581
        },
        "id": "ucZuXk09pNzY",
        "outputId": "acc3ae19-b864-44fe-e625-a4ca88d08b7a"
      },
      "source": [
        "dfb_plot = dfb.groupby('year').agg('count')[['idDBLP']].sort_values('idDBLP' , ascending= False)[:10].reset_index()\n",
        "sns.set(rc={'figure.figsize':(11 , 8)})\n",
        "\n",
        "sns.barplot(  x = 'year' , y='idDBLP' , data = dfb_plot)\n",
        "\n",
        "plt.xticks(rotation=90)\n",
        "plt.tight_layout()"
      ],
      "execution_count": null,
      "outputs": [
        {
          "output_type": "display_data",
          "data": {
            "image/png": "[encoded data removed]",
            "text/plain": [
              "<Figure size 792x576 with 1 Axes>"
            ]
          },
          "metadata": {
            "tags": []
          }
        }
      ]
    },
    {
      "cell_type": "markdown",
      "metadata": {
        "id": "kcPcB_atsWUs"
      },
      "source": [
        "### Data Cleaning \n",
        "\n",
        "* Punctuation removal    \n",
        "* Stemming / Stopward removal \n",
        "* Lemmetization \n",
        "\n"
      ]
    },
    {
      "cell_type": "code",
      "metadata": {
        "colab": {
          "base_uri": "https://localhost:8080/"
        },
        "id": "gU3UhypBvCrB",
        "outputId": "f79bda05-bbe5-443f-f8d2-2d37dcbd0358"
      },
      "source": [
        "! pip install nltk"
      ],
      "execution_count": null,
      "outputs": [
        {
          "output_type": "stream",
          "text": [
            "Requirement already satisfied: nltk in /usr/local/lib/python3.7/dist-packages (3.2.5)\n",
            "Requirement already satisfied: six in /usr/local/lib/python3.7/dist-packages (from nltk) (1.15.0)\n"
          ],
          "name": "stdout"
        }
      ]
    },
    {
      "cell_type": "code",
      "metadata": {
        "id": "1Mu2D_2Wuaa0"
      },
      "source": [
        "import nltk\n",
        "\n",
        "from nltk.corpus import stopwords\n",
        "def performStemAndLemma(textcontent):\n",
        "    # Write your code here\n",
        "    #Step 1\n",
        "    tokenizedword = nltk.regexp_tokenize(textcontent, pattern = r'\\w*', gaps = False)\n",
        "    #Step 2\n",
        "    tokenizedwords = [y for y in tokenizedword if y != '']\n",
        "    unique_tokenizedwords = set(tokenizedwords)\n",
        "    tokenizedwords = [x.lower() for x in unique_tokenizedwords if x != '']\n",
        "    #Step 3\n",
        "    #unique_tokenizedwords = set(tokenizedwords)\n",
        "    stop_words = set(stopwords.words('english')) \n",
        "    filteredwords = []\n",
        "    for x in tokenizedwords:\n",
        "        if x not in stop_words:\n",
        "            filteredwords.append(x)\n",
        "    #Steps 4, 5 , 6\n",
        "    ps = nltk.stem.PorterStemmer()\n",
        "    ls = nltk.stem.LancasterStemmer()\n",
        "    wnl = nltk.stem.WordNetLemmatizer()\n",
        "    porterstemmedwords =[]\n",
        "    lancasterstemmedwords = []\n",
        "    lemmatizedwords = []\n",
        "    for x in filteredwords:\n",
        "        porterstemmedwords.append(ps.stem(x))\n",
        "        lancasterstemmedwords.append(ls.stem(x))\n",
        "        lemmatizedwords.append(wnl.lemmatize(x))\n",
        "    return ' '.join(porterstemmedwords)"
      ],
      "execution_count": null,
      "outputs": []
    },
    {
      "cell_type": "code",
      "metadata": {
        "id": "BBlOD0kQvy7o"
      },
      "source": [
        "# nltk.download('wordnet')\n",
        "# nltk.download('stopwords')\n",
        "\n",
        "dfa['title'] = dfa['title'].apply(lambda x :  performStemAndLemma(re.sub(r'[^\\w\\s]','' , x.lower())) )\n",
        "dfb['title'] = dfb['title'].apply(lambda x :  performStemAndLemma(re.sub(r'[^\\w\\s]','' , x.lower())) )\n",
        "\n",
        "# performStemAndLemma"
      ],
      "execution_count": null,
      "outputs": []
    },
    {
      "cell_type": "markdown",
      "metadata": {
        "id": "U3ccdZoNoXLs"
      },
      "source": [
        "It appears that that the venue's in both the dataset may not conform to same format. It would be difficult for any algo to match these on the basis of column venue. "
      ]
    },
    {
      "cell_type": "markdown",
      "metadata": {
        "id": "DPBFuifkwoXm"
      },
      "source": [
        "## Dudupe.io\n",
        "\n",
        "Dedupe is an open source platform for deduping use cases. It fits well to our record linkage use case as well. \n",
        "\n",
        "### How it works? \n",
        "\n",
        "Dedupe will help us remove duplicate entries from our people dataset of name entities, whilst taking into account the paragraph information which provides context to the named entities. After this dedupe will help us to link the records in both the datasets. \n",
        "\n",
        "Dedupe takes in human training data and comes up with the best rules for your dataset to quickly and automatically find similar records, even with very large databases.\n",
        "\n",
        "\n",
        "### How we shall apply it? \n",
        "\n",
        "*   Dedupe both the datasets to make sure that there are no duplicates in either. \n",
        "*   Apply the record linking method. \n",
        "\n",
        "## What columns we shall use? \n",
        "\n",
        "We will start by just using title and authors columns as the other columns are not quite relevant. \n",
        "\n",
        "\n"
      ]
    },
    {
      "cell_type": "code",
      "metadata": {
        "colab": {
          "base_uri": "https://localhost:8080/"
        },
        "id": "9kgJxcB2OH8N",
        "outputId": "7a9e3d28-1f02-4e72-beb3-55d53a89ef51"
      },
      "source": [
        "import pandas as pd\n",
        "import pandas_dedupe\n",
        "\n",
        "\n",
        "dfa =  pandas_dedupe.dedupe_dataframe(dfa,  ['title', 'authors'])\n",
        "\n",
        "dfb =  pandas_dedupe.dedupe_dataframe(dfb,  ['title', 'authors'])\n",
        "\n",
        "#initiate matching\n",
        "df_final = pandas_dedupe.link_dataframes(dfa, dfb, ['title', 'authors'])\n",
        "\n",
        "#send output to csv\n",
        "df_final.to_csv('linkage_output.csv')"
      ],
      "execution_count": null,
      "outputs": [
        {
          "output_type": "stream",
          "text": [
            "Importing data ...\n",
            "Starting active labeling...\n"
          ],
          "name": "stdout"
        },
        {
          "output_type": "stream",
          "text": [
            "title : nsf industrialacadem workshop system databas cooper\n",
            "authors : m carey, l seligman\n",
            "\n",
            "title : nsf industrialacadem workshop system databas cooper\n",
            "authors : None\n",
            "\n",
            "0/10 positive, 0/10 negative\n",
            "Do these records refer to the same thing?\n",
            "(y)es / (n)o / (u)nsure / (f)inished\n"
          ],
          "name": "stderr"
        },
        {
          "output_type": "stream",
          "text": [
            "y\n"
          ],
          "name": "stdout"
        },
        {
          "output_type": "stream",
          "text": [
            "title : servic softwar asp aggreg\n",
            "authors : c bussler\n",
            "\n",
            "title : servic softwar asp aggreg\n",
            "authors : None\n",
            "\n",
            "1/10 positive, 0/10 negative\n",
            "Do these records refer to the same thing?\n",
            "(y)es / (n)o / (u)nsure / (f)inished / (p)revious\n"
          ],
          "name": "stderr"
        },
        {
          "output_type": "stream",
          "text": [
            "y\n"
          ],
          "name": "stdout"
        },
        {
          "output_type": "stream",
          "text": [
            "title : editori\n",
            "authors : d ralph, s searby\n",
            "\n",
            "title : editori\n",
            "authors : None\n",
            "\n",
            "2/10 positive, 0/10 negative\n",
            "Do these records refer to the same thing?\n",
            "(y)es / (n)o / (u)nsure / (f)inished / (p)revious\n"
          ],
          "name": "stderr"
        },
        {
          "output_type": "stream",
          "text": [
            "y\n"
          ],
          "name": "stdout"
        },
        {
          "output_type": "stream",
          "text": [
            "title : editori\n",
            "authors : s wright, a steventon\n",
            "\n",
            "title : editori\n",
            "authors : None\n",
            "\n",
            "3/10 positive, 0/10 negative\n",
            "Do these records refer to the same thing?\n",
            "(y)es / (n)o / (u)nsure / (f)inished / (p)revious\n"
          ],
          "name": "stderr"
        },
        {
          "output_type": "stream",
          "text": [
            "y\n"
          ],
          "name": "stdout"
        },
        {
          "output_type": "stream",
          "text": [
            "title : challeng data larg biodivers informat develop complex rapid databas\n",
            "authors : ma lane, jl edwards, e nielsen\n",
            "\n",
            "title : challeng data larg biodivers informat develop complex rapid databas keynot\n",
            "authors : None\n",
            "\n",
            "4/10 positive, 0/10 negative\n",
            "Do these records refer to the same thing?\n",
            "(y)es / (n)o / (u)nsure / (f)inished / (p)revious\n"
          ],
          "name": "stderr"
        },
        {
          "output_type": "stream",
          "text": [
            "n\n"
          ],
          "name": "stdout"
        },
        {
          "output_type": "stream",
          "text": [
            "title : editor guest introduct imag databas\n",
            "authors : ss iyengar, rl kashyap\n",
            "\n",
            "title : editor guest introduct\n",
            "authors : None\n",
            "\n",
            "4/10 positive, 1/10 negative\n",
            "Do these records refer to the same thing?\n",
            "(y)es / (n)o / (u)nsure / (f)inished / (p)revious\n"
          ],
          "name": "stderr"
        },
        {
          "output_type": "stream",
          "text": [
            "n\n"
          ],
          "name": "stdout"
        },
        {
          "output_type": "stream",
          "text": [
            "title : influenti paper\n",
            "authors : k ross\n",
            "\n",
            "title : influenti paper reminisc\n",
            "authors : None\n",
            "\n",
            "4/10 positive, 2/10 negative\n",
            "Do these records refer to the same thing?\n",
            "(y)es / (n)o / (u)nsure / (f)inished / (p)revious\n"
          ],
          "name": "stderr"
        },
        {
          "output_type": "stream",
          "text": [
            "n\n"
          ],
          "name": "stdout"
        },
        {
          "output_type": "stream",
          "text": [
            "title : process commit revisit distribut databas system perform\n",
            "authors : r gupta, j haritsa, k ramamritham\n",
            "\n",
            "title : process commit revisit distribut databas system\n",
            "authors : r gupta, j haritsa, k ramamritham\n",
            "\n",
            "4/10 positive, 3/10 negative\n",
            "Do these records refer to the same thing?\n",
            "(y)es / (n)o / (u)nsure / (f)inished / (p)revious\n"
          ],
          "name": "stderr"
        },
        {
          "output_type": "stream",
          "text": [
            "y\n"
          ],
          "name": "stdout"
        },
        {
          "output_type": "stream",
          "text": [
            "title : authent electron preserv longterm record framework model\n",
            "authors : we underwood\n",
            "\n",
            "title : authent electron preserv longterm record\n",
            "authors : l duranti\n",
            "\n",
            "5/10 positive, 3/10 negative\n",
            "Do these records refer to the same thing?\n",
            "(y)es / (n)o / (u)nsure / (f)inished / (p)revious\n"
          ],
          "name": "stderr"
        },
        {
          "output_type": "stream",
          "text": [
            "n\n"
          ],
          "name": "stdout"
        },
        {
          "output_type": "stream",
          "text": [
            "title : electron commerc\n",
            "authors : g doukidis, m themistocleous, w drakos, a\n",
            "\n",
            "title : electron commerc view activ\n",
            "authors : s abiteboul, b amann, s cluet, a eyal, l mignet, t milo\n",
            "\n",
            "5/10 positive, 4/10 negative\n",
            "Do these records refer to the same thing?\n",
            "(y)es / (n)o / (u)nsure / (f)inished / (p)revious\n"
          ],
          "name": "stderr"
        },
        {
          "output_type": "stream",
          "text": [
            "n\n"
          ],
          "name": "stdout"
        },
        {
          "output_type": "stream",
          "text": [
            "title : editor guest introduct assur assur qualiti softwar\n",
            "authors : jm voas\n",
            "\n",
            "title : editor guest introduct\n",
            "authors : None\n",
            "\n",
            "5/10 positive, 5/10 negative\n",
            "Do these records refer to the same thing?\n",
            "(y)es / (n)o / (u)nsure / (f)inished / (p)revious\n"
          ],
          "name": "stderr"
        },
        {
          "output_type": "stream",
          "text": [
            "n\n"
          ],
          "name": "stdout"
        },
        {
          "output_type": "stream",
          "text": [
            "title : editor guest introduct assur assur qualiti softwar\n",
            "authors : jm voas\n",
            "\n",
            "title : editor guest introduct\n",
            "authors : None\n",
            "\n",
            "5/10 positive, 6/10 negative\n",
            "Do these records refer to the same thing?\n",
            "(y)es / (n)o / (u)nsure / (f)inished / (p)revious\n"
          ],
          "name": "stderr"
        },
        {
          "output_type": "stream",
          "text": [
            "n\n"
          ],
          "name": "stdout"
        },
        {
          "output_type": "stream",
          "text": [
            "title : editor guest introduct web special section search mine\n",
            "authors : b liu, s chakrabarti\n",
            "\n",
            "title : editor guest introduct\n",
            "authors : None\n",
            "\n",
            "5/10 positive, 7/10 negative\n",
            "Do these records refer to the same thing?\n",
            "(y)es / (n)o / (u)nsure / (f)inished / (p)revious\n"
          ],
          "name": "stderr"
        },
        {
          "output_type": "stream",
          "text": [
            "n\n"
          ],
          "name": "stdout"
        },
        {
          "output_type": "stream",
          "text": [
            "title : editori guest\n",
            "authors : m jarke\n",
            "\n",
            "title : editori\n",
            "authors : None\n",
            "\n",
            "5/10 positive, 8/10 negative\n",
            "Do these records refer to the same thing?\n",
            "(y)es / (n)o / (u)nsure / (f)inished / (p)revious\n"
          ],
          "name": "stderr"
        },
        {
          "output_type": "stream",
          "text": [
            "f\n"
          ],
          "name": "stdout"
        },
        {
          "output_type": "stream",
          "text": [
            "Finished labeling\n",
            "/usr/local/lib/python3.7/dist-packages/rlr/crossvalidation.py:122: RuntimeWarning: invalid value encountered in double_scalars\n",
            "  * (true_distinct + false_distinct)))\n"
          ],
          "name": "stderr"
        },
        {
          "output_type": "stream",
          "text": [
            "Clustering...\n",
            "# duplicate sets 2216\n"
          ],
          "name": "stdout"
        }
      ]
    },
    {
      "cell_type": "code",
      "metadata": {
        "id": "qcRmtJgMWf03"
      },
      "source": [
        "linked_output = pd.read_csv('linkage_output.csv')"
      ],
      "execution_count": null,
      "outputs": []
    },
    {
      "cell_type": "code",
      "metadata": {
        "colab": {
          "base_uri": "https://localhost:8080/"
        },
        "id": "WJjEuyEKWoZJ",
        "outputId": "97de3b18-9400-46c9-d213-8c41ffc84f67"
      },
      "source": [
        "linked_output.columns"
      ],
      "execution_count": null,
      "outputs": [
        {
          "output_type": "execute_result",
          "data": {
            "text/plain": [
              "Index(['Unnamed: 0', 'authors', 'cluster id', 'confidence', 'idDBLP',\n",
              "       'idScholar', 'row_id', 'title', 'venue', 'year'],\n",
              "      dtype='object')"
            ]
          },
          "metadata": {
            "tags": []
          },
          "execution_count": 79
        }
      ]
    },
    {
      "cell_type": "markdown",
      "metadata": {
        "id": "sS2N-xztbDZJ"
      },
      "source": [
        "DataFrame with linked records"
      ]
    },
    {
      "cell_type": "code",
      "metadata": {
        "colab": {
          "base_uri": "https://localhost:8080/",
          "height": 422
        },
        "id": "FqN6RjUGa5Ya",
        "outputId": "d0eed2d4-0906-407f-c185-4adba3fa975c"
      },
      "source": [
        "linked_output.head()\n",
        "\n",
        "# It has both the ids idScholar and id DBLP"
      ],
      "execution_count": null,
      "outputs": [
        {
          "output_type": "execute_result",
          "data": {
            "text/html": [
              "<div>\n",
              "<style scoped>\n",
              "    .dataframe tbody tr th:only-of-type {\n",
              "        vertical-align: middle;\n",
              "    }\n",
              "\n",
              "    .dataframe tbody tr th {\n",
              "        vertical-align: top;\n",
              "    }\n",
              "\n",
              "    .dataframe thead th {\n",
              "        text-align: right;\n",
              "    }\n",
              "</style>\n",
              "<table border=\"1\" class=\"dataframe\">\n",
              "  <thead>\n",
              "    <tr style=\"text-align: right;\">\n",
              "      <th></th>\n",
              "      <th>Unnamed: 0</th>\n",
              "      <th>authors</th>\n",
              "      <th>cluster id</th>\n",
              "      <th>confidence</th>\n",
              "      <th>idDBLP</th>\n",
              "      <th>idScholar</th>\n",
              "      <th>row_id</th>\n",
              "      <th>title</th>\n",
              "      <th>venue</th>\n",
              "      <th>year</th>\n",
              "    </tr>\n",
              "  </thead>\n",
              "  <tbody>\n",
              "    <tr>\n",
              "      <th>0</th>\n",
              "      <td>65893</td>\n",
              "      <td>NaN</td>\n",
              "      <td>0.0</td>\n",
              "      <td>0.928819</td>\n",
              "      <td>conf/sigmod/epstein95</td>\n",
              "      <td>NaN</td>\n",
              "      <td>1634</td>\n",
              "      <td>address keynot</td>\n",
              "      <td>NaN</td>\n",
              "      <td>1995.0</td>\n",
              "    </tr>\n",
              "    <tr>\n",
              "      <th>1</th>\n",
              "      <td>9556</td>\n",
              "      <td>m lehman</td>\n",
              "      <td>0.0</td>\n",
              "      <td>0.928819</td>\n",
              "      <td>NaN</td>\n",
              "      <td>bv48iknfbb8j</td>\n",
              "      <td>9557</td>\n",
              "      <td>address keynot</td>\n",
              "      <td>proceedings of the 4th international workshop ...</td>\n",
              "      <td>NaN</td>\n",
              "    </tr>\n",
              "    <tr>\n",
              "      <th>2</th>\n",
              "      <td>9464</td>\n",
              "      <td>q luo</td>\n",
              "      <td>1.0</td>\n",
              "      <td>0.928819</td>\n",
              "      <td>NaN</td>\n",
              "      <td>url:http://portal.acm.org/ft_gateway.cfm3fid3d...</td>\n",
              "      <td>9465</td>\n",
              "      <td>job interview tight market</td>\n",
              "      <td>sigmod record,</td>\n",
              "      <td>2002.0</td>\n",
              "    </tr>\n",
              "    <tr>\n",
              "      <th>3</th>\n",
              "      <td>64306</td>\n",
              "      <td>NaN</td>\n",
              "      <td>1.0</td>\n",
              "      <td>0.928819</td>\n",
              "      <td>journals/sigmod/luoi02</td>\n",
              "      <td>NaN</td>\n",
              "      <td>47</td>\n",
              "      <td>job interview tight market</td>\n",
              "      <td>NaN</td>\n",
              "      <td>2002.0</td>\n",
              "    </tr>\n",
              "    <tr>\n",
              "      <th>4</th>\n",
              "      <td>8538</td>\n",
              "      <td>portal.acm.org</td>\n",
              "      <td>2.0</td>\n",
              "      <td>0.928819</td>\n",
              "      <td>NaN</td>\n",
              "      <td>dnm-avln230j</td>\n",
              "      <td>8539</td>\n",
              "      <td>editor guest introduct</td>\n",
              "      <td>NaN</td>\n",
              "      <td>NaN</td>\n",
              "    </tr>\n",
              "  </tbody>\n",
              "</table>\n",
              "</div>"
            ],
            "text/plain": [
              "   Unnamed: 0  ...    year\n",
              "0       65893  ...  1995.0\n",
              "1        9556  ...     NaN\n",
              "2        9464  ...  2002.0\n",
              "3       64306  ...  2002.0\n",
              "4        8538  ...     NaN\n",
              "\n",
              "[5 rows x 10 columns]"
            ]
          },
          "metadata": {
            "tags": []
          },
          "execution_count": 80
        }
      ]
    },
    {
      "cell_type": "markdown",
      "metadata": {
        "id": "UEM5YVBoxG1V"
      },
      "source": [
        "Final Output: \n"
      ]
    },
    {
      "cell_type": "code",
      "metadata": {
        "colab": {
          "base_uri": "https://localhost:8080/"
        },
        "id": "4NshwKBqzfmi",
        "outputId": "40cc161f-0ef3-40bc-8a68-77a82bed0916"
      },
      "source": [
        "linked_output.info()"
      ],
      "execution_count": null,
      "outputs": [
        {
          "output_type": "stream",
          "text": [
            "<class 'pandas.core.frame.DataFrame'>\n",
            "RangeIndex: 66876 entries, 0 to 66875\n",
            "Data columns (total 10 columns):\n",
            " #   Column      Non-Null Count  Dtype  \n",
            "---  ------      --------------  -----  \n",
            " 0   Unnamed: 0  66876 non-null  int64  \n",
            " 1   authors     66657 non-null  object \n",
            " 2   cluster id  4432 non-null   float64\n",
            " 3   confidence  4432 non-null   float64\n",
            " 4   idDBLP      2616 non-null   object \n",
            " 5   idScholar   63497 non-null  object \n",
            " 6   row_id      66876 non-null  int64  \n",
            " 7   title       66873 non-null  object \n",
            " 8   venue       51668 non-null  object \n",
            " 9   year        32087 non-null  float64\n",
            "dtypes: float64(3), int64(2), object(5)\n",
            "memory usage: 5.1+ MB\n"
          ],
          "name": "stdout"
        }
      ]
    },
    {
      "cell_type": "code",
      "metadata": {
        "colab": {
          "base_uri": "https://localhost:8080/"
        },
        "id": "VpkNFOdX0XNy",
        "outputId": "a82d83d8-c8b1-40d9-f724-2b8a2f2beaf1"
      },
      "source": [
        "linked_output['idDBLP'][linked_output['idDBLP'].isna()] = ''\n",
        "linked_output['idScholar'][linked_output['idScholar'].isna()] = ''"
      ],
      "execution_count": null,
      "outputs": [
        {
          "output_type": "stream",
          "text": [
            "/usr/local/lib/python3.7/dist-packages/ipykernel_launcher.py:1: SettingWithCopyWarning: \n",
            "A value is trying to be set on a copy of a slice from a DataFrame\n",
            "\n",
            "See the caveats in the documentation: https://pandas.pydata.org/pandas-docs/stable/user_guide/indexing.html#returning-a-view-versus-a-copy\n",
            "  \"\"\"Entry point for launching an IPython kernel.\n",
            "/usr/local/lib/python3.7/dist-packages/ipykernel_launcher.py:2: SettingWithCopyWarning: \n",
            "A value is trying to be set on a copy of a slice from a DataFrame\n",
            "\n",
            "See the caveats in the documentation: https://pandas.pydata.org/pandas-docs/stable/user_guide/indexing.html#returning-a-view-versus-a-copy\n",
            "  \n"
          ],
          "name": "stderr"
        }
      ]
    },
    {
      "cell_type": "code",
      "metadata": {
        "id": "jyZGvuFDzP9Q"
      },
      "source": [
        "linked_output['MatchId'] = linked_output['idDBLP'] + linked_output['idScholar']"
      ],
      "execution_count": null,
      "outputs": []
    },
    {
      "cell_type": "code",
      "metadata": {
        "colab": {
          "base_uri": "https://localhost:8080/",
          "height": 739
        },
        "id": "_p_YxfRFzo1L",
        "outputId": "741da2f1-328f-48fc-abd6-0c498ed2a9ec"
      },
      "source": [
        "linked_output"
      ],
      "execution_count": null,
      "outputs": [
        {
          "output_type": "execute_result",
          "data": {
            "text/html": [
              "<div>\n",
              "<style scoped>\n",
              "    .dataframe tbody tr th:only-of-type {\n",
              "        vertical-align: middle;\n",
              "    }\n",
              "\n",
              "    .dataframe tbody tr th {\n",
              "        vertical-align: top;\n",
              "    }\n",
              "\n",
              "    .dataframe thead th {\n",
              "        text-align: right;\n",
              "    }\n",
              "</style>\n",
              "<table border=\"1\" class=\"dataframe\">\n",
              "  <thead>\n",
              "    <tr style=\"text-align: right;\">\n",
              "      <th></th>\n",
              "      <th>Unnamed: 0</th>\n",
              "      <th>authors</th>\n",
              "      <th>cluster id</th>\n",
              "      <th>confidence</th>\n",
              "      <th>idDBLP</th>\n",
              "      <th>idScholar</th>\n",
              "      <th>row_id</th>\n",
              "      <th>title</th>\n",
              "      <th>venue</th>\n",
              "      <th>year</th>\n",
              "      <th>MatchId</th>\n",
              "    </tr>\n",
              "  </thead>\n",
              "  <tbody>\n",
              "    <tr>\n",
              "      <th>0</th>\n",
              "      <td>65893</td>\n",
              "      <td>NaN</td>\n",
              "      <td>0.0</td>\n",
              "      <td>0.928819</td>\n",
              "      <td>conf/sigmod/epstein95</td>\n",
              "      <td></td>\n",
              "      <td>1634</td>\n",
              "      <td>address keynot</td>\n",
              "      <td>NaN</td>\n",
              "      <td>1995.0</td>\n",
              "      <td>conf/sigmod/epstein95</td>\n",
              "    </tr>\n",
              "    <tr>\n",
              "      <th>1</th>\n",
              "      <td>9556</td>\n",
              "      <td>m lehman</td>\n",
              "      <td>0.0</td>\n",
              "      <td>0.928819</td>\n",
              "      <td></td>\n",
              "      <td>bv48iknfbb8j</td>\n",
              "      <td>9557</td>\n",
              "      <td>address keynot</td>\n",
              "      <td>proceedings of the 4th international workshop ...</td>\n",
              "      <td>NaN</td>\n",
              "      <td>bv48iknfbb8j</td>\n",
              "    </tr>\n",
              "    <tr>\n",
              "      <th>2</th>\n",
              "      <td>9464</td>\n",
              "      <td>q luo</td>\n",
              "      <td>1.0</td>\n",
              "      <td>0.928819</td>\n",
              "      <td></td>\n",
              "      <td>url:http://portal.acm.org/ft_gateway.cfm3fid3d...</td>\n",
              "      <td>9465</td>\n",
              "      <td>job interview tight market</td>\n",
              "      <td>sigmod record,</td>\n",
              "      <td>2002.0</td>\n",
              "      <td>url:http://portal.acm.org/ft_gateway.cfm3fid3d...</td>\n",
              "    </tr>\n",
              "    <tr>\n",
              "      <th>3</th>\n",
              "      <td>64306</td>\n",
              "      <td>NaN</td>\n",
              "      <td>1.0</td>\n",
              "      <td>0.928819</td>\n",
              "      <td>journals/sigmod/luoi02</td>\n",
              "      <td></td>\n",
              "      <td>47</td>\n",
              "      <td>job interview tight market</td>\n",
              "      <td>NaN</td>\n",
              "      <td>2002.0</td>\n",
              "      <td>journals/sigmod/luoi02</td>\n",
              "    </tr>\n",
              "    <tr>\n",
              "      <th>4</th>\n",
              "      <td>8538</td>\n",
              "      <td>portal.acm.org</td>\n",
              "      <td>2.0</td>\n",
              "      <td>0.928819</td>\n",
              "      <td></td>\n",
              "      <td>dnm-avln230j</td>\n",
              "      <td>8539</td>\n",
              "      <td>editor guest introduct</td>\n",
              "      <td>NaN</td>\n",
              "      <td>NaN</td>\n",
              "      <td>dnm-avln230j</td>\n",
              "    </tr>\n",
              "    <tr>\n",
              "      <th>...</th>\n",
              "      <td>...</td>\n",
              "      <td>...</td>\n",
              "      <td>...</td>\n",
              "      <td>...</td>\n",
              "      <td>...</td>\n",
              "      <td>...</td>\n",
              "      <td>...</td>\n",
              "      <td>...</td>\n",
              "      <td>...</td>\n",
              "      <td>...</td>\n",
              "      <td>...</td>\n",
              "    </tr>\n",
              "    <tr>\n",
              "      <th>66871</th>\n",
              "      <td>66845</td>\n",
              "      <td>NaN</td>\n",
              "      <td>NaN</td>\n",
              "      <td>NaN</td>\n",
              "      <td>journals/sigmod/ozsu02b</td>\n",
              "      <td></td>\n",
              "      <td>2586</td>\n",
              "      <td>messag chair</td>\n",
              "      <td>NaN</td>\n",
              "      <td>2002.0</td>\n",
              "      <td>journals/sigmod/ozsu02b</td>\n",
              "    </tr>\n",
              "    <tr>\n",
              "      <th>66872</th>\n",
              "      <td>66847</td>\n",
              "      <td>r cochrane, h pirahesh, n mattos</td>\n",
              "      <td>NaN</td>\n",
              "      <td>NaN</td>\n",
              "      <td>conf/vldb/cochranepm96</td>\n",
              "      <td></td>\n",
              "      <td>2588</td>\n",
              "      <td>sql declar databas trigger constraint integr s...</td>\n",
              "      <td>vldb</td>\n",
              "      <td>1996.0</td>\n",
              "      <td>conf/vldb/cochranepm96</td>\n",
              "    </tr>\n",
              "    <tr>\n",
              "      <th>66873</th>\n",
              "      <td>66859</td>\n",
              "      <td>t rengarajan</td>\n",
              "      <td>NaN</td>\n",
              "      <td>NaN</td>\n",
              "      <td>conf/vldb/rengarajan96</td>\n",
              "      <td></td>\n",
              "      <td>2600</td>\n",
              "      <td>11 sql system fast becam server</td>\n",
              "      <td>vldb</td>\n",
              "      <td>1996.0</td>\n",
              "      <td>conf/vldb/rengarajan96</td>\n",
              "    </tr>\n",
              "    <tr>\n",
              "      <th>66874</th>\n",
              "      <td>66862</td>\n",
              "      <td>m rys, m norrie, h schek</td>\n",
              "      <td>NaN</td>\n",
              "      <td>NaN</td>\n",
              "      <td>conf/vldb/rysns96</td>\n",
              "      <td></td>\n",
              "      <td>2603</td>\n",
              "      <td>system object relat multiprocessor parallel in...</td>\n",
              "      <td>vldb</td>\n",
              "      <td>1996.0</td>\n",
              "      <td>conf/vldb/rysns96</td>\n",
              "    </tr>\n",
              "    <tr>\n",
              "      <th>66875</th>\n",
              "      <td>66870</td>\n",
              "      <td>NaN</td>\n",
              "      <td>NaN</td>\n",
              "      <td>NaN</td>\n",
              "      <td>journals/sigmod/rossgn03</td>\n",
              "      <td></td>\n",
              "      <td>2611</td>\n",
              "      <td>influenti paper reminisc</td>\n",
              "      <td>NaN</td>\n",
              "      <td>2003.0</td>\n",
              "      <td>journals/sigmod/rossgn03</td>\n",
              "    </tr>\n",
              "  </tbody>\n",
              "</table>\n",
              "<p>66876 rows × 11 columns</p>\n",
              "</div>"
            ],
            "text/plain": [
              "       Unnamed: 0  ...                                            MatchId\n",
              "0           65893  ...                              conf/sigmod/epstein95\n",
              "1            9556  ...                                       bv48iknfbb8j\n",
              "2            9464  ...  url:http://portal.acm.org/ft_gateway.cfm3fid3d...\n",
              "3           64306  ...                             journals/sigmod/luoi02\n",
              "4            8538  ...                                       dnm-avln230j\n",
              "...           ...  ...                                                ...\n",
              "66871       66845  ...                            journals/sigmod/ozsu02b\n",
              "66872       66847  ...                             conf/vldb/cochranepm96\n",
              "66873       66859  ...                             conf/vldb/rengarajan96\n",
              "66874       66862  ...                                  conf/vldb/rysns96\n",
              "66875       66870  ...                           journals/sigmod/rossgn03\n",
              "\n",
              "[66876 rows x 11 columns]"
            ]
          },
          "metadata": {
            "tags": []
          },
          "execution_count": 89
        }
      ]
    },
    {
      "cell_type": "code",
      "metadata": {
        "colab": {
          "base_uri": "https://localhost:8080/",
          "height": 417
        },
        "id": "22yCJ0x8z7ND",
        "outputId": "178b6f53-a036-4e3b-e2c5-8adea95ab7dd"
      },
      "source": [
        "# linked_output = \n",
        "linked_output['Scholar_Match'] = linked_output['Unnamed: 0']\n",
        "linked_output['DBLP_Match'] = linked_output['row_id']\n",
        "\n",
        "linked_output[['idDBLP' , 'idScholar' ,'Scholar_Match'  , 'DBLP_Match']]\n",
        "\n",
        "\n",
        "linked_output['MatchId'] = linked_output['Scholar_Match'] + linked_output['DBLP_Match']\n",
        "DBLP_Scholar_perfectMapping_Ramraj_Rajakumar = linked_output[['idDBLP' , 'idScholar' ,'Scholar_Match'  , 'DBLP_Match' , 'MatchId']]\n",
        "DBLP_Scholar_perfectMapping_Ramraj_Rajakumar"
      ],
      "execution_count": null,
      "outputs": [
        {
          "output_type": "execute_result",
          "data": {
            "text/html": [
              "<div>\n",
              "<style scoped>\n",
              "    .dataframe tbody tr th:only-of-type {\n",
              "        vertical-align: middle;\n",
              "    }\n",
              "\n",
              "    .dataframe tbody tr th {\n",
              "        vertical-align: top;\n",
              "    }\n",
              "\n",
              "    .dataframe thead th {\n",
              "        text-align: right;\n",
              "    }\n",
              "</style>\n",
              "<table border=\"1\" class=\"dataframe\">\n",
              "  <thead>\n",
              "    <tr style=\"text-align: right;\">\n",
              "      <th></th>\n",
              "      <th>idDBLP</th>\n",
              "      <th>idScholar</th>\n",
              "      <th>Scholar_Match</th>\n",
              "      <th>DBLP_Match</th>\n",
              "      <th>MatchId</th>\n",
              "    </tr>\n",
              "  </thead>\n",
              "  <tbody>\n",
              "    <tr>\n",
              "      <th>0</th>\n",
              "      <td>conf/sigmod/epstein95</td>\n",
              "      <td>NaN</td>\n",
              "      <td>65893</td>\n",
              "      <td>1634</td>\n",
              "      <td>67527</td>\n",
              "    </tr>\n",
              "    <tr>\n",
              "      <th>1</th>\n",
              "      <td>NaN</td>\n",
              "      <td>bv48iknfbb8j</td>\n",
              "      <td>9556</td>\n",
              "      <td>9557</td>\n",
              "      <td>19113</td>\n",
              "    </tr>\n",
              "    <tr>\n",
              "      <th>2</th>\n",
              "      <td>NaN</td>\n",
              "      <td>url:http://portal.acm.org/ft_gateway.cfm3fid3d...</td>\n",
              "      <td>9464</td>\n",
              "      <td>9465</td>\n",
              "      <td>18929</td>\n",
              "    </tr>\n",
              "    <tr>\n",
              "      <th>3</th>\n",
              "      <td>journals/sigmod/luoi02</td>\n",
              "      <td>NaN</td>\n",
              "      <td>64306</td>\n",
              "      <td>47</td>\n",
              "      <td>64353</td>\n",
              "    </tr>\n",
              "    <tr>\n",
              "      <th>4</th>\n",
              "      <td>NaN</td>\n",
              "      <td>dnm-avln230j</td>\n",
              "      <td>8538</td>\n",
              "      <td>8539</td>\n",
              "      <td>17077</td>\n",
              "    </tr>\n",
              "    <tr>\n",
              "      <th>...</th>\n",
              "      <td>...</td>\n",
              "      <td>...</td>\n",
              "      <td>...</td>\n",
              "      <td>...</td>\n",
              "      <td>...</td>\n",
              "    </tr>\n",
              "    <tr>\n",
              "      <th>66871</th>\n",
              "      <td>journals/sigmod/ozsu02b</td>\n",
              "      <td>NaN</td>\n",
              "      <td>66845</td>\n",
              "      <td>2586</td>\n",
              "      <td>69431</td>\n",
              "    </tr>\n",
              "    <tr>\n",
              "      <th>66872</th>\n",
              "      <td>conf/vldb/cochranepm96</td>\n",
              "      <td>NaN</td>\n",
              "      <td>66847</td>\n",
              "      <td>2588</td>\n",
              "      <td>69435</td>\n",
              "    </tr>\n",
              "    <tr>\n",
              "      <th>66873</th>\n",
              "      <td>conf/vldb/rengarajan96</td>\n",
              "      <td>NaN</td>\n",
              "      <td>66859</td>\n",
              "      <td>2600</td>\n",
              "      <td>69459</td>\n",
              "    </tr>\n",
              "    <tr>\n",
              "      <th>66874</th>\n",
              "      <td>conf/vldb/rysns96</td>\n",
              "      <td>NaN</td>\n",
              "      <td>66862</td>\n",
              "      <td>2603</td>\n",
              "      <td>69465</td>\n",
              "    </tr>\n",
              "    <tr>\n",
              "      <th>66875</th>\n",
              "      <td>journals/sigmod/rossgn03</td>\n",
              "      <td>NaN</td>\n",
              "      <td>66870</td>\n",
              "      <td>2611</td>\n",
              "      <td>69481</td>\n",
              "    </tr>\n",
              "  </tbody>\n",
              "</table>\n",
              "<p>66876 rows × 5 columns</p>\n",
              "</div>"
            ],
            "text/plain": [
              "                         idDBLP  ... MatchId\n",
              "0         conf/sigmod/epstein95  ...   67527\n",
              "1                           NaN  ...   19113\n",
              "2                           NaN  ...   18929\n",
              "3        journals/sigmod/luoi02  ...   64353\n",
              "4                           NaN  ...   17077\n",
              "...                         ...  ...     ...\n",
              "66871   journals/sigmod/ozsu02b  ...   69431\n",
              "66872    conf/vldb/cochranepm96  ...   69435\n",
              "66873    conf/vldb/rengarajan96  ...   69459\n",
              "66874         conf/vldb/rysns96  ...   69465\n",
              "66875  journals/sigmod/rossgn03  ...   69481\n",
              "\n",
              "[66876 rows x 5 columns]"
            ]
          },
          "metadata": {
            "tags": []
          },
          "execution_count": 108
        }
      ]
    },
    {
      "cell_type": "code",
      "metadata": {
        "id": "-n9Sp1eN1YrG"
      },
      "source": [
        "DBLP_Scholar_perfectMapping_Ramraj_Rajakumar.to_csv(\"DBLP_Scholar_perfectMapping_Ramraj_Rajakumar.csv\")"
      ],
      "execution_count": null,
      "outputs": []
    },
    {
      "cell_type": "markdown",
      "metadata": {
        "id": "NzTx0cD84fyb"
      },
      "source": [
        "The end. "
      ]
    }
  ]
}